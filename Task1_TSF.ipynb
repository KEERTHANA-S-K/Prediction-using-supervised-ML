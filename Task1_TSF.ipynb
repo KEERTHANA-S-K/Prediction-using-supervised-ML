{
 "cells": [
  {
   "cell_type": "markdown",
   "id": "cd754e1c",
   "metadata": {},
   "source": [
    "# NAME:KEERTHANA S K"
   ]
  },
  {
   "cell_type": "markdown",
   "id": "0364e928",
   "metadata": {},
   "source": [
    "## THE SPARK FOUNDATION"
   ]
  },
  {
   "cell_type": "markdown",
   "id": "f173f0fd",
   "metadata": {},
   "source": [
    "## Internship Function:Data Science and Business Analytics"
   ]
  },
  {
   "cell_type": "markdown",
   "id": "a6d6fdb0",
   "metadata": {},
   "source": [
    "## Batch : November21"
   ]
  },
  {
   "cell_type": "markdown",
   "id": "6ae29911",
   "metadata": {},
   "source": [
    "## Task 1 : Prediction Using Supervised ML"
   ]
  },
  {
   "cell_type": "markdown",
   "id": "3e70c627",
   "metadata": {},
   "source": [
    "## Predict the percentage of an student based on number of study hours"
   ]
  },
  {
   "cell_type": "markdown",
   "id": "7eb10f02",
   "metadata": {},
   "source": [
    "## Author:KEERTHANA S K"
   ]
  },
  {
   "cell_type": "code",
   "execution_count": 7,
   "id": "14923ccf",
   "metadata": {},
   "outputs": [],
   "source": [
    "# importing all the rquired libraries:\n",
    "\n",
    "import numpy as np\n",
    "import pandas as pd\n",
    "import matplotlib.pyplot as plt\n",
    "from sklearn import linear_model\n",
    "%matplotlib inline\n",
    "from sklearn.model_selection import train_test_split\n",
    "from sklearn.linear_model import LinearRegression"
   ]
  },
  {
   "cell_type": "code",
   "execution_count": null,
   "id": "0df8e53b",
   "metadata": {},
   "outputs": [],
   "source": []
  }
 ],
 "metadata": {
  "kernelspec": {
   "display_name": "Python 3",
   "language": "python",
   "name": "python3"
  },
  "language_info": {
   "codemirror_mode": {
    "name": "ipython",
    "version": 3
   },
   "file_extension": ".py",
   "mimetype": "text/x-python",
   "name": "python",
   "nbconvert_exporter": "python",
   "pygments_lexer": "ipython3",
   "version": "3.8.8"
  }
 },
 "nbformat": 4,
 "nbformat_minor": 5
}
